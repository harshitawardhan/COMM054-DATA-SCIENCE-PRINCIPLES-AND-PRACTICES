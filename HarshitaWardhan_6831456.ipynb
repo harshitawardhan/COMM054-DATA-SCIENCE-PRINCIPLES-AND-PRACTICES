{
 "cells": [
  {
   "cell_type": "markdown",
   "id": "92e08d14-c377-4011-b5b9-a517cabb00ea",
   "metadata": {},
   "source": [
    "Name - Harshita Wardhan\n",
    "\n",
    "URN - 6831456\n",
    "\n",
    "Email - hw014587@surrey.ac.uk\n",
    "\n",
    "\n"
   ]
  },
  {
   "cell_type": "markdown",
   "id": "b2c22aa6-b89f-4614-a72c-b422f3b48bd8",
   "metadata": {},
   "source": [
    "This notebook contains the coursework for Data Science Principles and Practices. The main task is to classify and validate E.coli Protein Localisation Sites, specifically focusing on the C – Class for protein location. Here, a value of 0 represents proteins located in the inner membrane, while proteins in the perisplasm are labeled as 1.\n",
    "\n",
    "## Import Libraries\n",
    " \n",
    "In this coursework, we've harnessed the power of several key libraries to streamline our tasks:\n",
    "\n",
    "- NumPy (as np): A go-to for numerical calculations, NumPy simplifies complex arithmetic and enhances efficiency in working with arrays and matrices. <br>\n",
    "- Pandas (as pd): Crucial for data management, Pandas offers DataFrames for seamless dataset manipulation, making data analysis a breeze.\n",
    "- Matplotlib (as plt): This versatile data visualization library enables us to create various charts, enhancing our ability to interpret and communicate data effectively. <br>\n",
    "- Seaborn (as sns): A step beyond Matplotlib, Seaborn provides advanced visualization tools, and sns.set() adds an attractive touch to our charts. <br>\n",
    "- Sci-kit Learn (as sklearn): This library is our go-to for basic machine learning tasks, simplifying the development and evaluation of machine learning models. <br>\n",
    "\n",
    "These libraries collectively empower our workflow, ensuring efficiency in data handling, analysis, and visualization, as well as facilitating the implementation of machine learning models."
   ]
  },
  {
   "cell_type": "code",
   "execution_count": 17,
   "id": "1e683531-5918-4680-b5cc-193434afa0ef",
   "metadata": {},
   "outputs": [],
   "source": [
    "import numpy as np\n",
    "import pandas as pd\n",
    "import matplotlib.pyplot as plt\n",
    "import seaborn as sns"
   ]
  },
  {
   "cell_type": "markdown",
   "id": "357f989f-82f6-48de-b486-1fccebea81ff",
   "metadata": {},
   "source": [
    "## Reading Dataset\n",
    " \n",
    "In this section, we address the initial step of our analysis – importing the dataset related to E.coli Protein Localisation Sites. The dataset is stored as a .csv file, and the pandas library is utilized for data handling and exploration.\n",
    "The df = pd.read_csv(\"ecoli.csv\") command is employed to read the E.coli dataset from the specified .csv file, and the resulting dataframe is stored in the variable df. To ensure data integrity, a copy of the original data is created using data_copy = df. The loaded dataset is then displayed using df, providing an initial glimpse of the information we have for further analysis.\n",
    "This marks the commencement of our exploration into E.coli Protein Localisation Sites, laying the foundation for subsequent stages such as data preprocessing, analysis, and model development."
   ]
  },
  {
   "cell_type": "code",
   "execution_count": 18,
   "id": "5aac7a9d-bab0-42d4-a061-a6d277219cce",
   "metadata": {},
   "outputs": [
    {
     "data": {
      "text/html": [
       "<div>\n",
       "<style scoped>\n",
       "    .dataframe tbody tr th:only-of-type {\n",
       "        vertical-align: middle;\n",
       "    }\n",
       "\n",
       "    .dataframe tbody tr th {\n",
       "        vertical-align: top;\n",
       "    }\n",
       "\n",
       "    .dataframe thead th {\n",
       "        text-align: right;\n",
       "    }\n",
       "</style>\n",
       "<table border=\"1\" class=\"dataframe\">\n",
       "  <thead>\n",
       "    <tr style=\"text-align: right;\">\n",
       "      <th></th>\n",
       "      <th>X1</th>\n",
       "      <th>X2</th>\n",
       "      <th>X3</th>\n",
       "      <th>X4</th>\n",
       "      <th>X5</th>\n",
       "      <th>C</th>\n",
       "    </tr>\n",
       "  </thead>\n",
       "  <tbody>\n",
       "    <tr>\n",
       "      <th>0</th>\n",
       "      <td>-0.007564</td>\n",
       "      <td>0.222171</td>\n",
       "      <td>0.158978</td>\n",
       "      <td>1.159728</td>\n",
       "      <td>0.267387</td>\n",
       "      <td>0</td>\n",
       "    </tr>\n",
       "    <tr>\n",
       "      <th>1</th>\n",
       "      <td>0.171858</td>\n",
       "      <td>-0.041690</td>\n",
       "      <td>0.250635</td>\n",
       "      <td>0.165851</td>\n",
       "      <td>0.461043</td>\n",
       "      <td>0</td>\n",
       "    </tr>\n",
       "    <tr>\n",
       "      <th>2</th>\n",
       "      <td>0.736046</td>\n",
       "      <td>0.343963</td>\n",
       "      <td>0.749114</td>\n",
       "      <td>0.561858</td>\n",
       "      <td>0.712554</td>\n",
       "      <td>0</td>\n",
       "    </tr>\n",
       "    <tr>\n",
       "      <th>3</th>\n",
       "      <td>0.000639</td>\n",
       "      <td>-0.175082</td>\n",
       "      <td>0.070584</td>\n",
       "      <td>0.317284</td>\n",
       "      <td>0.582597</td>\n",
       "      <td>0</td>\n",
       "    </tr>\n",
       "    <tr>\n",
       "      <th>4</th>\n",
       "      <td>0.571760</td>\n",
       "      <td>-0.244216</td>\n",
       "      <td>0.234515</td>\n",
       "      <td>0.902095</td>\n",
       "      <td>0.594026</td>\n",
       "      <td>0</td>\n",
       "    </tr>\n",
       "    <tr>\n",
       "      <th>...</th>\n",
       "      <td>...</td>\n",
       "      <td>...</td>\n",
       "      <td>...</td>\n",
       "      <td>...</td>\n",
       "      <td>...</td>\n",
       "      <td>...</td>\n",
       "    </tr>\n",
       "    <tr>\n",
       "      <th>124</th>\n",
       "      <td>0.648946</td>\n",
       "      <td>0.946382</td>\n",
       "      <td>0.893618</td>\n",
       "      <td>0.539939</td>\n",
       "      <td>0.532365</td>\n",
       "      <td>1</td>\n",
       "    </tr>\n",
       "    <tr>\n",
       "      <th>125</th>\n",
       "      <td>0.768015</td>\n",
       "      <td>0.955685</td>\n",
       "      <td>0.495043</td>\n",
       "      <td>0.100583</td>\n",
       "      <td>0.836665</td>\n",
       "      <td>1</td>\n",
       "    </tr>\n",
       "    <tr>\n",
       "      <th>126</th>\n",
       "      <td>0.649908</td>\n",
       "      <td>0.845137</td>\n",
       "      <td>0.406619</td>\n",
       "      <td>0.654427</td>\n",
       "      <td>1.003261</td>\n",
       "      <td>1</td>\n",
       "    </tr>\n",
       "    <tr>\n",
       "      <th>127</th>\n",
       "      <td>0.221111</td>\n",
       "      <td>0.787071</td>\n",
       "      <td>0.318218</td>\n",
       "      <td>0.867372</td>\n",
       "      <td>0.682562</td>\n",
       "      <td>1</td>\n",
       "    </tr>\n",
       "    <tr>\n",
       "      <th>128</th>\n",
       "      <td>0.423381</td>\n",
       "      <td>1.089316</td>\n",
       "      <td>1.486272</td>\n",
       "      <td>0.250884</td>\n",
       "      <td>0.440059</td>\n",
       "      <td>1</td>\n",
       "    </tr>\n",
       "  </tbody>\n",
       "</table>\n",
       "<p>129 rows × 6 columns</p>\n",
       "</div>"
      ],
      "text/plain": [
       "           X1        X2        X3        X4        X5  C\n",
       "0   -0.007564  0.222171  0.158978  1.159728  0.267387  0\n",
       "1    0.171858 -0.041690  0.250635  0.165851  0.461043  0\n",
       "2    0.736046  0.343963  0.749114  0.561858  0.712554  0\n",
       "3    0.000639 -0.175082  0.070584  0.317284  0.582597  0\n",
       "4    0.571760 -0.244216  0.234515  0.902095  0.594026  0\n",
       "..        ...       ...       ...       ...       ... ..\n",
       "124  0.648946  0.946382  0.893618  0.539939  0.532365  1\n",
       "125  0.768015  0.955685  0.495043  0.100583  0.836665  1\n",
       "126  0.649908  0.845137  0.406619  0.654427  1.003261  1\n",
       "127  0.221111  0.787071  0.318218  0.867372  0.682562  1\n",
       "128  0.423381  1.089316  1.486272  0.250884  0.440059  1\n",
       "\n",
       "[129 rows x 6 columns]"
      ]
     },
     "execution_count": 18,
     "metadata": {},
     "output_type": "execute_result"
    }
   ],
   "source": [
    "# Load the data from the CSV file\n",
    "df = pd.read_csv(\"ecoli.csv\")\n",
    "df"
   ]
  },
  {
   "cell_type": "markdown",
   "id": "054ed0d6-6528-4b96-9fa0-f536f353492c",
   "metadata": {},
   "source": [
    "## Data Analysis\n",
    "To gain an initial understanding of the E.coli Protein Localisation Sites dataset, a general summary is provided below using the df.describe() function.\n",
    "\n",
    "The the df.describe() function yields statistical summaries for each numerical column within the dataset. This comprehensive summary incorporates key metrics such as count, mean, standard deviation, minimum, 25th percentile (Q1), median (50th percentile or Q2), 75th percentile (Q3), and maximum values. These statistics provide a comprehensive view of the central tendencies and distribution of the data, offering an initial insight into the overall characteristics of the dataset."
   ]
  },
  {
   "cell_type": "code",
   "execution_count": 19,
   "id": "2c1b3587-5a94-4427-9ffe-a3f0436c6aea",
   "metadata": {},
   "outputs": [
    {
     "data": {
      "text/html": [
       "<div>\n",
       "<style scoped>\n",
       "    .dataframe tbody tr th:only-of-type {\n",
       "        vertical-align: middle;\n",
       "    }\n",
       "\n",
       "    .dataframe tbody tr th {\n",
       "        vertical-align: top;\n",
       "    }\n",
       "\n",
       "    .dataframe thead th {\n",
       "        text-align: right;\n",
       "    }\n",
       "</style>\n",
       "<table border=\"1\" class=\"dataframe\">\n",
       "  <thead>\n",
       "    <tr style=\"text-align: right;\">\n",
       "      <th></th>\n",
       "      <th>X1</th>\n",
       "      <th>X2</th>\n",
       "      <th>X3</th>\n",
       "      <th>X4</th>\n",
       "      <th>X5</th>\n",
       "      <th>C</th>\n",
       "    </tr>\n",
       "  </thead>\n",
       "  <tbody>\n",
       "    <tr>\n",
       "      <th>count</th>\n",
       "      <td>129.000000</td>\n",
       "      <td>129.000000</td>\n",
       "      <td>129.000000</td>\n",
       "      <td>129.000000</td>\n",
       "      <td>129.000000</td>\n",
       "      <td>129.000000</td>\n",
       "    </tr>\n",
       "    <tr>\n",
       "      <th>mean</th>\n",
       "      <td>0.539102</td>\n",
       "      <td>0.597149</td>\n",
       "      <td>0.521040</td>\n",
       "      <td>0.686822</td>\n",
       "      <td>0.565779</td>\n",
       "      <td>0.403101</td>\n",
       "    </tr>\n",
       "    <tr>\n",
       "      <th>std</th>\n",
       "      <td>0.478155</td>\n",
       "      <td>0.433768</td>\n",
       "      <td>0.378367</td>\n",
       "      <td>0.438045</td>\n",
       "      <td>0.412171</td>\n",
       "      <td>0.492433</td>\n",
       "    </tr>\n",
       "    <tr>\n",
       "      <th>min</th>\n",
       "      <td>-0.430791</td>\n",
       "      <td>-0.281866</td>\n",
       "      <td>-0.263064</td>\n",
       "      <td>-0.600203</td>\n",
       "      <td>-0.484916</td>\n",
       "      <td>0.000000</td>\n",
       "    </tr>\n",
       "    <tr>\n",
       "      <th>25%</th>\n",
       "      <td>0.180917</td>\n",
       "      <td>0.284631</td>\n",
       "      <td>0.250635</td>\n",
       "      <td>0.416989</td>\n",
       "      <td>0.267387</td>\n",
       "      <td>0.000000</td>\n",
       "    </tr>\n",
       "    <tr>\n",
       "      <th>50%</th>\n",
       "      <td>0.559401</td>\n",
       "      <td>0.535186</td>\n",
       "      <td>0.495043</td>\n",
       "      <td>0.716888</td>\n",
       "      <td>0.568919</td>\n",
       "      <td>0.000000</td>\n",
       "    </tr>\n",
       "    <tr>\n",
       "      <th>75%</th>\n",
       "      <td>0.826496</td>\n",
       "      <td>0.864219</td>\n",
       "      <td>0.793372</td>\n",
       "      <td>0.962953</td>\n",
       "      <td>0.836665</td>\n",
       "      <td>1.000000</td>\n",
       "    </tr>\n",
       "    <tr>\n",
       "      <th>max</th>\n",
       "      <td>2.044694</td>\n",
       "      <td>1.711213</td>\n",
       "      <td>1.486272</td>\n",
       "      <td>1.743930</td>\n",
       "      <td>1.848438</td>\n",
       "      <td>1.000000</td>\n",
       "    </tr>\n",
       "  </tbody>\n",
       "</table>\n",
       "</div>"
      ],
      "text/plain": [
       "               X1          X2          X3          X4          X5           C\n",
       "count  129.000000  129.000000  129.000000  129.000000  129.000000  129.000000\n",
       "mean     0.539102    0.597149    0.521040    0.686822    0.565779    0.403101\n",
       "std      0.478155    0.433768    0.378367    0.438045    0.412171    0.492433\n",
       "min     -0.430791   -0.281866   -0.263064   -0.600203   -0.484916    0.000000\n",
       "25%      0.180917    0.284631    0.250635    0.416989    0.267387    0.000000\n",
       "50%      0.559401    0.535186    0.495043    0.716888    0.568919    0.000000\n",
       "75%      0.826496    0.864219    0.793372    0.962953    0.836665    1.000000\n",
       "max      2.044694    1.711213    1.486272    1.743930    1.848438    1.000000"
      ]
     },
     "execution_count": 19,
     "metadata": {},
     "output_type": "execute_result"
    }
   ],
   "source": [
    "df.describe()"
   ]
  },
  {
   "cell_type": "markdown",
   "id": "c9772f06-d27f-4f4b-95d8-4d9dd13e7d47",
   "metadata": {},
   "source": [
    "The df.info() function provides a concise summary of the dataset, including the data types of each column, the number of non-null values, and memory usage. This information is crucial for identifying potential data types, ensuring data consistency, and addressing any missing values that may impact subsequent analyses."
   ]
  },
  {
   "cell_type": "code",
   "execution_count": 20,
   "id": "0a17aa1e-b9a8-4785-9654-00aa3226bad0",
   "metadata": {},
   "outputs": [
    {
     "name": "stdout",
     "output_type": "stream",
     "text": [
      "<class 'pandas.core.frame.DataFrame'>\n",
      "RangeIndex: 129 entries, 0 to 128\n",
      "Data columns (total 6 columns):\n",
      " #   Column  Non-Null Count  Dtype  \n",
      "---  ------  --------------  -----  \n",
      " 0   X1      129 non-null    float64\n",
      " 1   X2      129 non-null    float64\n",
      " 2   X3      129 non-null    float64\n",
      " 3   X4      129 non-null    float64\n",
      " 4   X5      129 non-null    float64\n",
      " 5   C       129 non-null    int64  \n",
      "dtypes: float64(5), int64(1)\n",
      "memory usage: 6.2 KB\n"
     ]
    }
   ],
   "source": [
    "df.info()"
   ]
  },
  {
   "cell_type": "markdown",
   "id": "ee798678-d959-42ee-8322-70827f5a68f1",
   "metadata": {},
   "source": [
    "The 'C' column is our target variable in this dataset, and it's crucial to check how values are distributed between the two classes (0 and 1). The code used below counts how many times 0s and 1s appear in the 'C' column using the value_counts() method. This information is essential to understand the balance between the classes in our target variable. The subsequent print statements provide a clear breakdown of the counts for each class (0 and 1) in the 'C' column, giving us a straightforward view of the distribution."
   ]
  },
  {
   "cell_type": "code",
   "execution_count": 45,
   "id": "007da884-43cd-41d8-9e1a-49fa03222eec",
   "metadata": {},
   "outputs": [
    {
     "name": "stdout",
     "output_type": "stream",
     "text": [
      "Number of 0s in column C: 77\n",
      "Number of 1s in column C: 52\n"
     ]
    }
   ],
   "source": [
    "# Count of 0s and 1s in the column 'C' \n",
    "count_0 = df['C'].value_counts().get(0, 0)\n",
    "count_1 = df['C'].value_counts().get(1, 0)\n",
    "\n",
    "print(f'Number of 0s in column C: {count_0}')\n",
    "print(f'Number of 1s in column C: {count_1}')"
   ]
  },
  {
   "cell_type": "markdown",
   "id": "73af16ab-ffb9-4b4f-a42a-e062d6d12b61",
   "metadata": {},
   "source": [
    "The purpose of the following code is to understand the relationships between different columns in the dataset. This involves performing a Pearson correlation analysis using the df.corr(method='pearson') method.\n",
    "\n",
    "This code segment employs the Pearson correlation coefficient, a metric for linear correlation, to assess the interconnections among numerical columns in the dataset. The resultant correlation matrix offers significant insights into associations between variables. This analytical process is pivotal for revealing potential patterns and dependencies within the dataset, aiding in the identification of key factors linked to E.coli Protein Localisation Sites."
   ]
  },
  {
   "cell_type": "code",
   "execution_count": 22,
   "id": "6a6e2c96-47d2-4ac2-82e4-cfa3adea9590",
   "metadata": {},
   "outputs": [
    {
     "data": {
      "text/html": [
       "<div>\n",
       "<style scoped>\n",
       "    .dataframe tbody tr th:only-of-type {\n",
       "        vertical-align: middle;\n",
       "    }\n",
       "\n",
       "    .dataframe tbody tr th {\n",
       "        vertical-align: top;\n",
       "    }\n",
       "\n",
       "    .dataframe thead th {\n",
       "        text-align: right;\n",
       "    }\n",
       "</style>\n",
       "<table border=\"1\" class=\"dataframe\">\n",
       "  <thead>\n",
       "    <tr style=\"text-align: right;\">\n",
       "      <th></th>\n",
       "      <th>X1</th>\n",
       "      <th>X2</th>\n",
       "      <th>X3</th>\n",
       "      <th>X4</th>\n",
       "      <th>X5</th>\n",
       "      <th>C</th>\n",
       "    </tr>\n",
       "  </thead>\n",
       "  <tbody>\n",
       "    <tr>\n",
       "      <th>X1</th>\n",
       "      <td>1.000000</td>\n",
       "      <td>0.088768</td>\n",
       "      <td>0.075019</td>\n",
       "      <td>-0.042973</td>\n",
       "      <td>-0.078337</td>\n",
       "      <td>0.237523</td>\n",
       "    </tr>\n",
       "    <tr>\n",
       "      <th>X2</th>\n",
       "      <td>0.088768</td>\n",
       "      <td>1.000000</td>\n",
       "      <td>0.032293</td>\n",
       "      <td>-0.094101</td>\n",
       "      <td>-0.145810</td>\n",
       "      <td>0.345237</td>\n",
       "    </tr>\n",
       "    <tr>\n",
       "      <th>X3</th>\n",
       "      <td>0.075019</td>\n",
       "      <td>0.032293</td>\n",
       "      <td>1.000000</td>\n",
       "      <td>-0.005492</td>\n",
       "      <td>-0.014480</td>\n",
       "      <td>-0.068347</td>\n",
       "    </tr>\n",
       "    <tr>\n",
       "      <th>X4</th>\n",
       "      <td>-0.042973</td>\n",
       "      <td>-0.094101</td>\n",
       "      <td>-0.005492</td>\n",
       "      <td>1.000000</td>\n",
       "      <td>-0.051284</td>\n",
       "      <td>-0.310577</td>\n",
       "    </tr>\n",
       "    <tr>\n",
       "      <th>X5</th>\n",
       "      <td>-0.078337</td>\n",
       "      <td>-0.145810</td>\n",
       "      <td>-0.014480</td>\n",
       "      <td>-0.051284</td>\n",
       "      <td>1.000000</td>\n",
       "      <td>-0.326354</td>\n",
       "    </tr>\n",
       "    <tr>\n",
       "      <th>C</th>\n",
       "      <td>0.237523</td>\n",
       "      <td>0.345237</td>\n",
       "      <td>-0.068347</td>\n",
       "      <td>-0.310577</td>\n",
       "      <td>-0.326354</td>\n",
       "      <td>1.000000</td>\n",
       "    </tr>\n",
       "  </tbody>\n",
       "</table>\n",
       "</div>"
      ],
      "text/plain": [
       "          X1        X2        X3        X4        X5         C\n",
       "X1  1.000000  0.088768  0.075019 -0.042973 -0.078337  0.237523\n",
       "X2  0.088768  1.000000  0.032293 -0.094101 -0.145810  0.345237\n",
       "X3  0.075019  0.032293  1.000000 -0.005492 -0.014480 -0.068347\n",
       "X4 -0.042973 -0.094101 -0.005492  1.000000 -0.051284 -0.310577\n",
       "X5 -0.078337 -0.145810 -0.014480 -0.051284  1.000000 -0.326354\n",
       "C   0.237523  0.345237 -0.068347 -0.310577 -0.326354  1.000000"
      ]
     },
     "execution_count": 22,
     "metadata": {},
     "output_type": "execute_result"
    }
   ],
   "source": [
    "df.corr(method='pearson')"
   ]
  },
  {
   "cell_type": "markdown",
   "id": "1e9ddb1f-bce6-43aa-9066-2ac7d04852d0",
   "metadata": {},
   "source": [
    "To further understand the distribution of features across the two classes in the E.coli Protein Localisation Sites dataset, the dataset is separated into two distinct classes, Class 0 and Class 1. The subsequent grouped bar chart provides a visual representation of the mean values for each feature within these classes.To further understand the distribution of features across the two classes in the E.coli Protein Localisation Sites dataset, the dataset is separated into two distinct classes, Class 0 and Class 1. The subsequent grouped bar chart provides a visual representation of the mean values for each feature within these classes."
   ]
  },
  {
   "cell_type": "code",
   "execution_count": 23,
   "id": "5414469a-395b-41b2-820b-a7232c9b9676",
   "metadata": {},
   "outputs": [
    {
     "data": {
      "image/png": "[encoded data removed]",
      "text/plain": [
       "<Figure size 720x432 with 1 Axes>"
      ]
     },
     "metadata": {
      "needs_background": "light"
     },
     "output_type": "display_data"
    }
   ],
   "source": [
    "# Separate the dataset into two classes in order to plot\n",
    "class_0 = df[df['C'] == 0]\n",
    "class_1 = df[df['C'] == 1]\n",
    "\n",
    "# Plot grouped bar chart\n",
    "fig, ax = plt.subplots(figsize=(10, 6))\n",
    "\n",
    "bar_width = 0.35\n",
    "index = range(len(df.columns) - 1)\n",
    "\n",
    "bar1 = ax.bar(index, class_0.mean()[:-1], bar_width, label='Class 0', alpha=0.7)\n",
    "bar2 = ax.bar([i + bar_width for i in index], class_1.mean()[:-1], bar_width, label='Class 1', alpha=0.7)\n",
    "\n",
    "ax.set_xlabel('Features')\n",
    "ax.set_ylabel('Mean Values')\n",
    "ax.set_title('Mean Values of Features for Each Class')\n",
    "ax.set_xticks([i + bar_width/2 for i in index])\n",
    "ax.set_xticklabels(df.columns[:-1])\n",
    "ax.legend()\n",
    "\n",
    "plt.show()"
   ]
  },
  {
   "cell_type": "code",
   "execution_count": 24,
   "id": "29fabefe-b7a3-4388-9b86-78b6347ef092",
   "metadata": {},
   "outputs": [
    {
     "data": {
      "image/png": "[encoded data removed]",
      "text/plain": [
       "<Figure size 432x288 with 1 Axes>"
      ]
     },
     "metadata": {
      "needs_background": "light"
     },
     "output_type": "display_data"
    },
    {
     "data": {
      "image/png": "[encoded data removed]",
      "text/plain": [
       "<Figure size 432x288 with 1 Axes>"
      ]
     },
     "metadata": {
      "needs_background": "light"
     },
     "output_type": "display_data"
    },
    {
     "data": {
      "image/png": "[encoded data removed]",
      "text/plain": [
       "<Figure size 432x288 with 1 Axes>"
      ]
     },
     "metadata": {
      "needs_background": "light"
     },
     "output_type": "display_data"
    },
    {
     "data": {
      "image/png": "[encoded data removed]",
      "text/plain": [
       "<Figure size 432x288 with 1 Axes>"
      ]
     },
     "metadata": {
      "needs_background": "light"
     },
     "output_type": "display_data"
    },
    {
     "data": {
      "image/png": "[encoded data removed]",
      "text/plain": [
       "<Figure size 432x288 with 1 Axes>"
      ]
     },
     "metadata": {
      "needs_background": "light"
     },
     "output_type": "display_data"
    }
   ],
   "source": [
    "for feature in df.columns[:-1]:\n",
    "    plt.hist(df[df['C'] == 0][feature], alpha=0.5, label='Class 0')\n",
    "    plt.hist(df[df['C'] == 1][feature], alpha=0.5, label='Class 1')\n",
    "    plt.title(feature)\n",
    "    plt.legend()\n",
    "    plt.show()"
   ]
  },
  {
   "cell_type": "markdown",
   "id": "cc11880d-21eb-4ad3-bf7d-2e5a84d8975b",
   "metadata": {},
   "source": [
    "# Modeling \n",
    "\n",
    "*Splitting the dataset*\n",
    "\n",
    "We're now poised to proceed with building our models, our attention now shifts to building predictive models. Specifically, we are planning to implement two classifier models: Naive Bayes and a Logistic Regression model as requested.\n",
    "\n",
    "Before diving into the model specifics, we first need to divide our dataset into two distinct parts - a training set, which will be used to train the model, and a testing set, reserved for assessing model performance. Sklearn provides a handy function for this task. The data is divided in a 80-20 split, and to maintain consistency across different runs, the random state is set to 60, a choice influenced by personal preference and perhaps a touch of luck."
   ]
  },
  {
   "cell_type": "code",
   "execution_count": 25,
   "id": "f9c50c66-4bb5-418a-baf1-9b546bee61fa",
   "metadata": {},
   "outputs": [],
   "source": [
    "from sklearn.model_selection import train_test_split\n",
    "# Split the data into features (X) and the target variable (y)\n",
    "X = df[['X1', 'X2', 'X3', 'X4', 'X5']]\n",
    "y = df['C']\n",
    "\n",
    "# Split the data into training and testing sets\n",
    "X_train, X_test, y_train, y_test = train_test_split(X, y, test_size=0.2, random_state=60)"
   ]
  },
  {
   "cell_type": "code",
   "execution_count": 26,
   "id": "0b5f11df-3ebf-48f0-a0de-b98c6e73fee4",
   "metadata": {},
   "outputs": [
    {
     "name": "stdout",
     "output_type": "stream",
     "text": [
      "(103, 5) (26, 5)\n"
     ]
    }
   ],
   "source": [
    "print(X_train.shape, X_test.shape)"
   ]
  },
  {
   "cell_type": "markdown",
   "id": "47cfa39b-89ee-481e-bd37-d7bb82e08aae",
   "metadata": {},
   "source": [
    "Given our limited dataset comprising 6 columns, there's no necessity for Feature Engineering. We can proceed directly to the modeling phase. Our approach will involve implementing two classifier models:\n",
    "\n",
    "- Naive Bayes\n",
    "- Logistic Regression model"
   ]
  },
  {
   "cell_type": "markdown",
   "id": "b769b84c-6829-4c33-90bf-2d9cf2a9b806",
   "metadata": {},
   "source": [
    "# Naive Bayes Model"
   ]
  },
  {
   "cell_type": "markdown",
   "id": "c28402d3-6090-4c81-b886-8c8a42fa85c4",
   "metadata": {},
   "source": [
    "The Naive Bayes model is a machine learning algorithm specifically designed for classification tasks, where its primary goal is to make predictions by determining the presence (YES) or absence (NO) of certain features. In this context, the Gaussian Naive Bayes variant is employed to analyze a given dataset.\n",
    "\n",
    "In the Gaussian Naive Bayes classification applied to the ecoli dataset, a fundamental assumption is made that the data follows a normal distribution. This implies that the likelihood of each class is determined by assuming that the features are distributed according to the Gaussian (normal) distribution and are independent of each other.\n",
    "\n",
    "Now, let's delve into how this model calculates the class probabilities within the context of the ecoli dataset:\n",
    "\n",
    "Firstly, the model calculates the probability that a data point belongs to Class 1 (represented by column C having a value of 1), given its features. This probability is denoted as P(1|x). Additionally, it computes the probability that the data point does not belong to Class 1, represented as P(0|x). The prediction is then made based on the comparison of these two probabilities. Specifically, if P(0|x) is greater than P(1|x), the model predicts Class 0; otherwise, it predicts Class 1. This decision-making process is fundamental to the classification task performed by the Gaussian Naive Bayes model on the ecoli dataset."
   ]
  },
  {
   "cell_type": "code",
   "execution_count": 27,
   "id": "c05f16f1-706a-4305-8d16-b2fd9be16821",
   "metadata": {
    "scrolled": true
   },
   "outputs": [
    {
     "name": "stdout",
     "output_type": "stream",
     "text": [
      "Gaussian Naive Bayes Model Accuracy: 0.7692307692307693\n",
      "\n",
      "Confusion Matrix:\n",
      " [[13  2]\n",
      " [ 4  7]]\n",
      "\n",
      "Classification Report:\n",
      "               precision    recall  f1-score   support\n",
      "\n",
      "           0       0.76      0.87      0.81        15\n",
      "           1       0.78      0.64      0.70        11\n",
      "\n",
      "    accuracy                           0.77        26\n",
      "   macro avg       0.77      0.75      0.76        26\n",
      "weighted avg       0.77      0.77      0.76        26\n",
      "\n"
     ]
    }
   ],
   "source": [
    "from sklearn.model_selection import train_test_split\n",
    "from sklearn.naive_bayes import GaussianNB\n",
    "from sklearn.metrics import accuracy_score, confusion_matrix, classification_report\n",
    "\n",
    "# Create and train the Gaussian Naive Bayes model\n",
    "model = GaussianNB()\n",
    "model.fit(X_train, y_train)\n",
    "\n",
    "# Make predictions on the test set\n",
    "predictions = model.predict(X_test)\n",
    "\n",
    "# Evaluate the model's performance\n",
    "accuracy = accuracy_score(y_test, predictions)\n",
    "conf_matrix = confusion_matrix(y_test, predictions)\n",
    "classification_rep = classification_report(y_test, predictions)\n",
    "\n",
    "print(\"Gaussian Naive Bayes Model Accuracy:\", accuracy)\n",
    "print(\"\\nConfusion Matrix:\\n\", conf_matrix)\n",
    "print(\"\\nClassification Report:\\n\", classification_rep)\n"
   ]
  },
  {
   "cell_type": "markdown",
   "id": "aa776287-477c-4f97-b16d-9be546590c66",
   "metadata": {},
   "source": [
    "# Logistic regression model\n",
    "\n",
    "\n",
    "Logistic regression is a method used to figure out if a certain data point in the ecoli dataset falls into either Class 1 or Class 0. Unlike Gaussian Naive Bayes, which makes assumptions about how the data is spread out, logistic regression focuses on figuring out the probability of belonging to a particular class.\n",
    "\n",
    "In this approach, logistic regression employs a function to estimate the chance that a data point belongs to Class 1, known as P(1|x). This probability is determined by looking at the features (X1 to X5) of the given data point. Additionally, the model calculates the chance of belonging to Class 0, denoted as P(0|x).\n",
    "\n",
    "To simplify the decision-making process, logistic regression introduces a decision boundary. If the probability of belonging to Class 1 (P(1|x)) is higher than a set threshold, usually 0.5, the model predicts Class 1. If it's below this threshold, it predicts Class 0."
   ]
  },
  {
   "cell_type": "code",
   "execution_count": 28,
   "id": "f26d641f-690f-4507-b188-df224d44dd43",
   "metadata": {},
   "outputs": [
    {
     "name": "stdout",
     "output_type": "stream",
     "text": [
      "Logistic Regression Model Accuracy: 0.7692307692307693\n",
      "\n",
      "Confusion Matrix:\n",
      " [[13  2]\n",
      " [ 4  7]]\n",
      "\n",
      "Classification Report:\n",
      "               precision    recall  f1-score   support\n",
      "\n",
      "           0       0.76      0.87      0.81        15\n",
      "           1       0.78      0.64      0.70        11\n",
      "\n",
      "    accuracy                           0.77        26\n",
      "   macro avg       0.77      0.75      0.76        26\n",
      "weighted avg       0.77      0.77      0.76        26\n",
      "\n"
     ]
    }
   ],
   "source": [
    "from sklearn.model_selection import train_test_split\n",
    "from sklearn.linear_model import LogisticRegression\n",
    "from sklearn.metrics import accuracy_score, confusion_matrix, classification_report\n",
    "\n",
    "# Create and train the logistic regression model\n",
    "model = LogisticRegression()\n",
    "model.fit(X_train, y_train)\n",
    "\n",
    "# Make predictions on the test set\n",
    "predictions = model.predict(X_test)\n",
    "\n",
    "# Evaluate the model's performance\n",
    "accuracy = accuracy_score(y_test, predictions)\n",
    "conf_matrix = confusion_matrix(y_test, predictions)\n",
    "classification_rep = classification_report(y_test, predictions)\n",
    "\n",
    "print(\"Logistic Regression Model Accuracy:\", accuracy)\n",
    "print(\"\\nConfusion Matrix:\\n\", conf_matrix)\n",
    "print(\"\\nClassification Report:\\n\", classification_rep)"
   ]
  },
  {
   "cell_type": "markdown",
   "id": "fa3d3f59-356e-481a-bfd9-dd4ebf0c88b8",
   "metadata": {},
   "source": [
    "# Validation\n",
    "\n",
    "We applied both models to our ecoli dataset and observed an accuracy exceeding 76% for each. However, this assessment is based on training and testing the models with a specific set of data. If we had chosen a different dataset for training and testing, the accuracy results might have varied.\n",
    "\n",
    "To address this variability and ensure a more robust evaluation, we employed cross-validation techniques, specifically using k-fold cross-validation. In this approach, the dataset is divided into k parts or folds. During each iteration, one part is designated for testing, while the remaining parts are used for training. This process is repeated k times, ensuring that every part serves as the test set at least once. To maintain consistency with our initial split (80-20), we opted for 4 folds.\n",
    "\n",
    "By leveraging scikit-learn (sklearn) for implementation, we ensure a standardized and reliable application of cross-validation on our ecoli dataset."
   ]
  },
  {
   "cell_type": "code",
   "execution_count": 29,
   "id": "510e3336-00cc-4a63-889c-d212a14f0ee1",
   "metadata": {},
   "outputs": [],
   "source": [
    "from sklearn.model_selection import StratifiedKFold, cross_validate\n",
    "from sklearn.metrics import accuracy_score, confusion_matrix, classification_report, roc_curve, auc, precision_score, recall_score, f1_score\n"
   ]
  },
  {
   "cell_type": "code",
   "execution_count": 40,
   "id": "74872220-62d7-4baf-90d1-c75045c844bb",
   "metadata": {},
   "outputs": [
    {
     "name": "stdout",
     "output_type": "stream",
     "text": [
      "Naive Bayes Cross-Validation Test Accuracy: 0.7669230769230768\n",
      "Naive Bayes Cross-Validation Train Accuracy: 0.796078921078921\n"
     ]
    },
    {
     "data": {
      "image/png": "[encoded data removed]",
      "text/plain": [
       "<Figure size 720x288 with 1 Axes>"
      ]
     },
     "metadata": {
      "needs_background": "light"
     },
     "output_type": "display_data"
    }
   ],
   "source": [
    "# Perform cross-validation for Naive Bayes\n",
    "val_bayes = cross_validate(bayes_model, X_train, y_train, cv=StratifiedKFold(n_splits=4, shuffle=True, random_state=57),\n",
    "                           return_train_score=True, scoring=['accuracy', 'precision', 'recall', 'f1'])\n",
    "\n",
    "# Get the test and train accuracy scores for Naive Bayes\n",
    "test_score_bayes, train_score_bayes = val_bayes['test_accuracy'], val_bayes['train_accuracy']\n",
    "\n",
    "# Print the cross-validation results for Naive Bayes\n",
    "print(\"Naive Bayes Cross-Validation Test Accuracy:\", np.mean(test_score_bayes))\n",
    "print(\"Naive Bayes Cross-Validation Train Accuracy:\", np.mean(train_score_bayes))\n",
    "\n",
    "# Visualize the data for Naive Bayes\n",
    "def visualise(train, test, title):\n",
    "    x_axis = np.arange(4)\n",
    "    plt.figure(figsize=(10, 4))\n",
    "    plt.bar(x_axis, test, label='Testing accuracy', width=0.2, color='#2ab7ca')\n",
    "    plt.bar(x_axis + 0.2, train, label='Training accuracy', width=0.2, color='#fed766')\n",
    "    plt.xticks(x_axis, ['B1', 'B2', 'B3', 'B4']) \n",
    "    plt.xlabel('Batches')\n",
    "    plt.ylabel('Value')\n",
    "    plt.legend()\n",
    "    plt.title(title)\n",
    "    plt.show()\n",
    "\n",
    "# Visualize the data for Naive Bayes\n",
    "visualise(train_score_bayes, test_score_bayes, 'Naive Bayes Accuracy')"
   ]
  },
  {
   "cell_type": "code",
   "execution_count": 41,
   "id": "979f751a-ef33-4170-aaa3-e6f2335d4f44",
   "metadata": {},
   "outputs": [
    {
     "name": "stdout",
     "output_type": "stream",
     "text": [
      "Logistic Regression Cross-Validation Test Accuracy: 0.7573076923076922\n",
      "Logistic Regression Cross-Validation Train Accuracy: 0.7928737928737929\n"
     ]
    },
    {
     "data": {
      "image/png": "[encoded data removed]",
      "text/plain": [
       "<Figure size 720x288 with 1 Axes>"
      ]
     },
     "metadata": {
      "needs_background": "light"
     },
     "output_type": "display_data"
    }
   ],
   "source": [
    "# Perform cross-validation for Logistic Regression\n",
    "val_logistic = cross_validate(logistic_model, X_train, y_train, cv=StratifiedKFold(n_splits=4, shuffle=True, random_state=57),\n",
    "                              return_train_score=True, scoring=['accuracy', 'precision', 'recall', 'f1'])\n",
    "\n",
    "# Get the test and train accuracy scores for Logistic Regression\n",
    "test_score_logistic, train_score_logistic = val_logistic['test_accuracy'], val_logistic['train_accuracy']\n",
    "\n",
    "# Print the cross-validation results for Logistic Regression\n",
    "print(\"Logistic Regression Cross-Validation Test Accuracy:\", np.mean(test_score_logistic))\n",
    "print(\"Logistic Regression Cross-Validation Train Accuracy:\", np.mean(train_score_logistic))\n",
    "\n",
    "# Visualize the data for Logistic Regression\n",
    "visualise(train_score_logistic, test_score_logistic, 'Logistic Regression Accuracy')"
   ]
  },
  {
   "cell_type": "markdown",
   "id": "151baf2c-f7ee-4365-892f-cbde0d2fb4d7",
   "metadata": {},
   "source": [
    "# ROC curve for both the model.\n",
    "\n",
    "Using ROC curves to visualize the trade-off between the True Positive Rate (TPR) and False Positive Rate (FPR) at different classification thresholds. It helps in understanding how well a binary classifieris performing across various threshold values.\n",
    "\n",
    "The AUC quantifies the overall performance of a classifier. A higher AUC indicates better discrimination between positive and negative classes, regardless of the threshold chosen. It provides a single scalar value to summarize the ROC"
   ]
  },
  {
   "cell_type": "code",
   "execution_count": 44,
   "id": "40ec9d67-8f2f-4658-a340-63bbedc1e2a8",
   "metadata": {},
   "outputs": [
    {
     "data": {
      "image/png": "[encoded data removed]",
      "text/plain": [
       "<Figure size 576x432 with 1 Axes>"
      ]
     },
     "metadata": {
      "needs_background": "light"
     },
     "output_type": "display_data"
    }
   ],
   "source": [
    "# Fit and evaluate Naive Bayes model on the test set\n",
    "bayes_model.fit(X_train, y_train)\n",
    "predictions_bayes = bayes_model.predict(X_test)\n",
    "\n",
    "# Fit and evaluate Logistic Regression model on the test set\n",
    "logistic_model.fit(X_train, y_train)\n",
    "predictions_logistic = logistic_model.predict(X_test)\n",
    "\n",
    "# ROC curve plotting for Naive Bayes\n",
    "y_prob_nb = bayes_model.predict_proba(X_test)[:, 1]\n",
    "fpr_nb, tpr_nb, thresholds_nb = roc_curve(y_test, y_prob_nb)\n",
    "roc_auc_nb = auc(fpr_nb, tpr_nb)\n",
    "\n",
    "plt.figure(figsize=(8, 6))\n",
    "plt.plot(fpr_nb, tpr_nb, color='orange', lw=2, label='Naive Bayes ROC curve (AUC = {:.2f})'.format(roc_auc_nb))\n",
    "\n",
    "# ROC curve plotting for Logistic Regression\n",
    "y_prob_logistic = logistic_model.predict_proba(X_test)[:, 1]\n",
    "fpr_logistic, tpr_logistic, thresholds_logistic = roc_curve(y_test, y_prob_logistic)\n",
    "roc_auc_logistic = auc(fpr_logistic, tpr_logistic)\n",
    "\n",
    "plt.plot(fpr_logistic, tpr_logistic, color='skyblue', lw=2, label='Logistic Regression ROC curve (AUC = {:.2f})'.format(roc_auc_logistic))\n",
    "\n",
    "plt.plot([0, 1], [0, 1], color='navy', lw=2, linestyle='--', label='Random Guessing')\n",
    "plt.xlabel('False Positive Rate (FPR)')\n",
    "plt.ylabel('True Positive Rate (TPR) or Recall')\n",
    "plt.title('Receiver Operating Characteristic (ROC) Curve for Models')\n",
    "plt.legend(loc='lower right')\n",
    "plt.show()"
   ]
  },
  {
   "cell_type": "markdown",
   "id": "132a91de-3b1f-488c-ac71-bb3737931310",
   "metadata": {},
   "source": [
    "# Model Evaluation"
   ]
  },
  {
   "cell_type": "markdown",
   "id": "0329b6dc-a19c-4ba8-b276-70aeaf88f5a5",
   "metadata": {},
   "source": [
    "Let's assess the performance of the constructed models. While the accuracy of both models is provided, it's essential to delve deeper into the evaluation metrics for binary classification. When a binary model makes predictions, there are four possible outcomes, often represented in a confusion matrix:\n",
    "\n",
    "Now, let's explore the validation metrics:\n",
    "  \n",
    "To interpret these metrics, higher values for accuracy, precision, recall, and F1 score generally indicate better model performance. However, the significance of improvement varies. For instance, improved precision implies fewer false positives, indicating better model performance.\n",
    "\n",
    "To efficiently obtain and compare these metrics, we can leverage specialized functions in the sklearn.metrics library. We'll define a function to calculate these values and visualize the comparison between the two models. While we already have values for cross-validation, we'll focus on calculating and visualizing the metrics for the initial split."
   ]
  },
  {
   "cell_type": "code",
   "execution_count": 34,
   "id": "f271cb5b-5550-4226-8b8f-38bbebc0063d",
   "metadata": {},
   "outputs": [],
   "source": [
    "def compare_graph(metric_values_model1, metric_values_model2, title):\n",
    "    metrics = ['Accuracy', 'Precision', 'Recall', 'F1 Score']\n",
    "    models = ['Naive Bayes', 'Logistic Regression']\n",
    "\n",
    "    # Arrange metrics for each model\n",
    "    bar_width = 0.35\n",
    "    r1 = np.arange(len(metrics))\n",
    "    r2 = [x + bar_width for x in r1]\n",
    "\n",
    "    plt.figure(figsize=(12, 6))\n",
    "\n",
    "    plt.bar(r1, metric_values_model1, color='skyblue', width=bar_width, edgecolor='grey', label='Naive Bayes')\n",
    "    plt.bar(r2, metric_values_model2, color='orange', width=bar_width, edgecolor='grey', label='Logistic Regression')\n",
    "\n",
    "    plt.xlabel('Metrics', fontweight='bold')\n",
    "    plt.xticks([r + bar_width / 2 for r in range(len(metrics))], metrics)\n",
    "    plt.title(title)\n",
    "    plt.legend()\n",
    "    plt.show()"
   ]
  },
  {
   "cell_type": "code",
   "execution_count": 35,
   "id": "e8add126-257c-49d2-80a1-62d5aa96486a",
   "metadata": {},
   "outputs": [],
   "source": [
    "# Initial Split Validation for Naive Bayes\n",
    "X_train, X_test, y_train, y_test = train_test_split(X, y, test_size=0.2, random_state=42)\n",
    "bayes_model = GaussianNB()\n",
    "bayes_model.fit(X_train, y_train)\n",
    "predictions_bayes_initial = bayes_model.predict(X_test)\n",
    "\n",
    "# Initial Split Validation - Calculate metrics for Naive Bayes \n",
    "initial_metrics_bayes = [\n",
    "    accuracy_score(y_test, predictions_bayes_initial),\n",
    "    precision_score(y_test, predictions_bayes_initial),\n",
    "    recall_score(y_test, predictions_bayes_initial),\n",
    "    f1_score(y_test, predictions_bayes_initial)\n",
    "]"
   ]
  },
  {
   "cell_type": "code",
   "execution_count": 36,
   "id": "55ea447b-04dd-4e7b-af22-bd574d7e0de3",
   "metadata": {},
   "outputs": [
    {
     "data": {
      "image/png": "[encoded data removed]",
      "text/plain": [
       "<Figure size 864x432 with 1 Axes>"
      ]
     },
     "metadata": {
      "needs_background": "light"
     },
     "output_type": "display_data"
    }
   ],
   "source": [
    "# Initial Split Validation for Logistic Regression\n",
    "logistic_model = LogisticRegression()\n",
    "logistic_model.fit(X_train, y_train)\n",
    "predictions_logistic_initial = logistic_model.predict(X_test)\n",
    "\n",
    "# Initial Split Validation - Calculate metrics for Logistic Regression \n",
    "initial_metrics_logistic = [\n",
    "    accuracy_score(y_test, predictions_logistic_initial),\n",
    "    precision_score(y_test, predictions_logistic_initial),\n",
    "    recall_score(y_test, predictions_logistic_initial),\n",
    "    f1_score(y_test, predictions_logistic_initial)\n",
    "]\n",
    "# Visualize the comparison for Initial Split Validation\n",
    "compare_graph(initial_metrics_bayes, initial_metrics_logistic, 'Comparison between Models using Initial Split Validation')"
   ]
  },
  {
   "cell_type": "code",
   "execution_count": 39,
   "id": "2e3f76cd-426f-4adc-895a-05ccf65a6f57",
   "metadata": {},
   "outputs": [],
   "source": [
    "# K-Fold Cross-Validation for Naive Bayes\n",
    "bayes_model = GaussianNB()\n",
    "val_bayes = cross_validate(bayes_model, X, y, cv=StratifiedKFold(n_splits=4, shuffle=True, random_state=57),\n",
    "                           return_train_score=True, scoring=['accuracy', 'precision', 'recall', 'f1'])\n",
    "\n",
    "# Get the test scores for Naive Bayes - K-Fold Cross-Validation\n",
    "test_metrics_bayes = [\n",
    "    np.mean(val_bayes['test_accuracy']),\n",
    "    np.mean(val_bayes['test_precision']),\n",
    "    np.mean(val_bayes['test_recall']),\n",
    "    np.mean(val_bayes['test_f1'])\n",
    "]\n",
    "\n",
    "# K-Fold Cross-Validation for Logistic Regression\n",
    "logistic_model = LogisticRegression()\n",
    "val_logistic = cross_validate(logistic_model, X, y, cv=StratifiedKFold(n_splits=4, shuffle=True, random_state=57),\n",
    "                              return_train_score=True, scoring=['accuracy', 'precision', 'recall', 'f1'])\n",
    "\n",
    "# Get the test scores for Logistic Regression - K-Fold Cross-Validation\n",
    "test_metrics_logistic = [\n",
    "    np.mean(val_logistic['test_accuracy']),\n",
    "    np.mean(val_logistic['test_precision']),\n",
    "    np.mean(val_logistic['test_recall']),\n",
    "    np.mean(val_logistic['test_f1'])\n",
    "]"
   ]
  },
  {
   "cell_type": "code",
   "execution_count": 38,
   "id": "b67e3b23-75b5-4453-a332-657dd26975dd",
   "metadata": {},
   "outputs": [
    {
     "data": {
      "image/png": "[encoded data removed]",
      "text/plain": [
       "<Figure size 864x432 with 1 Axes>"
      ]
     },
     "metadata": {
      "needs_background": "light"
     },
     "output_type": "display_data"
    }
   ],
   "source": [
    "# Visualize the comparison for K-Fold Cross-Validation\n",
    "compare_graph(test_metrics_bayes, test_metrics_logistic, 'Comparison between Models using K-Fold Cross-Validation')"
   ]
  },
  {
   "cell_type": "markdown",
   "id": "dc2248c0-e5e4-4c62-927a-86a2e1f29477",
   "metadata": {},
   "source": [
    "# Conclusion"
   ]
  },
  {
   "cell_type": "markdown",
   "id": "cd8410b2-b8ab-4080-bdf2-27e356928e1c",
   "metadata": {},
   "source": [
    "Due to the limited size and unbiased nature of our dataset, logistic regression exhibited superior performance compared to Naive Bayes across various evaluation metrics such as accuracy, precision, recall, and F1 score. \n",
    "\n",
    "The decision not to perform feature scaling was influenced by the specific characteristics of our data, where such preprocessing steps were deemed unnecessary.\n",
    "\n",
    "Both logistic regression and Naive Bayes algorithms exhibit commendable performance. However, based on our dataset, logistic regression emerges as the more favorable choice, delivering superior results across various metrics due to unbiased data. This underscores the significance of considering dataset-specific characteristics when selecting the most suitable algorithm for a given task.\n",
    "\n",
    "Leveraging both initial split and k-fold validation techniques, we have determined that our models exhibit no signs of overfitting or underfitting. This comprehensive assessment ensures the robustness and generalization capability of our models, enhancing our confidence in their performance across various scenarios."
   ]
  }
 ],
 "metadata": {
  "kernelspec": {
   "display_name": "Python 3 (ipykernel)",
   "language": "python",
   "name": "python3"
  },
  "language_info": {
   "codemirror_mode": {
    "name": "ipython",
    "version": 3
   },
   "file_extension": ".py",
   "mimetype": "text/x-python",
   "name": "python",
   "nbconvert_exporter": "python",
   "pygments_lexer": "ipython3",
   "version": "3.10.12"
  }
 },
 "nbformat": 4,
 "nbformat_minor": 5
}
